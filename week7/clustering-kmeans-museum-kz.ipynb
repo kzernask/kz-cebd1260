{
 "cells": [
  {
   "cell_type": "code",
   "execution_count": 1,
   "metadata": {},
   "outputs": [],
   "source": [
    "# import the library\n",
    "%matplotlib inline\n",
    "\n",
    "import pandas as pd\n",
    "import numpy as np\n",
    "import collections\n",
    "import matplotlib.pyplot as plt\n",
    "import seaborn as sns\n",
    "\n",
    "from sklearn.cluster import KMeans\n",
    "from sklearn.preprocessing import StandardScaler\n",
    "from sklearn.metrics.pairwise import euclidean_distances\n",
    "\n",
    "sns.set_style('whitegrid')"
   ]
  },
  {
   "cell_type": "code",
   "execution_count": 2,
   "metadata": {},
   "outputs": [],
   "source": [
    "pd.options.display.max_rows=250\n",
    "pd.options.display.max_columns=250"
   ]
  },
  {
   "cell_type": "markdown",
   "metadata": {},
   "source": [
    "# Problem definition"
   ]
  },
  {
   "cell_type": "markdown",
   "metadata": {},
   "source": [
    "Cluster museums based on traveler type and tags, in order to recommend types of museums to visit (i.e. which categories)."
   ]
  },
  {
   "cell_type": "markdown",
   "metadata": {},
   "source": [
    "# Load the data"
   ]
  },
  {
   "cell_type": "code",
   "execution_count": 3,
   "metadata": {},
   "outputs": [],
   "source": [
    "#input\n",
    "df = pd.read_csv('data/museum_data.csv')\n",
    "df = df.set_index(['MuseumName', 'Continent', 'SubRegion','Country'])\n",
    "df.head()\n",
    "df_copy = df.copy()"
   ]
  },
  {
   "cell_type": "markdown",
   "metadata": {},
   "source": [
    "# Feature Engineering "
   ]
  },
  {
   "cell_type": "code",
   "execution_count": 4,
   "metadata": {},
   "outputs": [
    {
     "name": "stderr",
     "output_type": "stream",
     "text": [
      "C:\\Users\\Kirsten\\Anaconda3\\lib\\site-packages\\IPython\\core\\interactiveshell.py:2848: PerformanceWarning: indexing past lexsort depth may impact performance.\n",
      "  raw_cell, store_history, silent, shell_futures)\n"
     ]
    }
   ],
   "source": [
    "# define columns ranges\n",
    "traveler_columns = ['Families', 'Couples', 'Solo', 'Business', 'Friends']\n",
    "categories = list(df.loc[:,'Ancient Ruins':'Zoos & Aquariums'].columns)\n",
    "tags = list(df.loc[:,'on display':'life size'].columns)\n",
    "\n",
    "# instead of looking at the ratios of traveler types, identify the top traveler type per museum, because that can be used as a selector in the app\n",
    "df['TopTraveler'] = df[traveler_columns].idxmax(axis=1)\n",
    "df_top_travelers = df['TopTraveler'].str.get_dummies()\n",
    "df_top_travelers.columns = ['TopCouples','TopFamilies','TopFriends','TopSolo']\n",
    "df = pd.concat([df, df_top_travelers], axis=1)"
   ]
  },
  {
   "cell_type": "code",
   "execution_count": 6,
   "metadata": {},
   "outputs": [],
   "source": [
    "# convert tags data to ints so logical comparisons work properly\n",
    "df.loc[:,tags] = df.loc[:,tags].astype(int)\n",
    "\n",
    "# create combinations of similar tags to reduce dimensionality\n",
    "df['special exhibit'] = (df['special exhibits']) | (df['special exhibitions']) | (df['traveling exhibits']) | (df['changing exhibits']) | (df['rotating exhibits'])\n",
    "df['interactive'] = (df['interactive exhibits']) | (df['interactive displays']) | (df['hands on activities'])\n",
    "df['family'] = (df['all ages']) | (df['great for kids']) | (df['whole family']) | (df['kids and adults'])\n",
    "df['art'] = (df['art lovers']) | (df['works of art']) | (df['modern art']) | (df['old masters']) | (df['sculpture garden'])\n",
    "df['learn'] = (df['great place to learn']) | (df['learn something'])\n",
    "df['display'] = (df['on display']) | (df['displays'])\n",
    "df['history2'] = (df['old west']) | (df['early days']) | (df['interesting artifacts']) | (df['history lesson']) | (df['history buff']) | (df['lots of history']) | (df['great history'])\n",
    "df['natural'] = (df['natural history']) | (df['stuffed animals'])\n",
    "\n",
    "## other features I tried that weren't helpful in the end:\n",
    "# df['2 hours'] = (df['couple of hours']) | (df['few hours']) | (df['two hours'])\n",
    "# df['audio'] = (df['audio guide']) | (df['audio tour'])\n",
    "# df['free'] = (df['free admission']) | (df['free entry']) | -(df['entrance fee']) | -(df['admission'])\n",
    "# df['collection'] = (df['private collection']) | (df['amazing collection']) | (df['nice collection']) | (df['permanent collection'])\n",
    "# df['Popular'] = (df['ReviewCount']>10000)"
   ]
  },
  {
   "cell_type": "code",
   "execution_count": 9,
   "metadata": {
    "scrolled": true
   },
   "outputs": [
    {
     "name": "stdout",
     "output_type": "stream",
     "text": [
      "(1593, 18)\n"
     ]
    },
    {
     "name": "stderr",
     "output_type": "stream",
     "text": [
      "C:\\Users\\Kirsten\\Anaconda3\\lib\\site-packages\\sklearn\\utils\\validation.py:595: DataConversionWarning: Data with input dtype int32 was converted to float64 by StandardScaler.\n",
      "  warnings.warn(msg, DataConversionWarning)\n",
      "C:\\Users\\Kirsten\\Anaconda3\\lib\\site-packages\\sklearn\\utils\\validation.py:595: DataConversionWarning: Data with input dtype int32 was converted to float64 by StandardScaler.\n",
      "  warnings.warn(msg, DataConversionWarning)\n",
      "C:\\Users\\Kirsten\\Anaconda3\\lib\\site-packages\\sklearn\\utils\\validation.py:595: DataConversionWarning: Data with input dtype int32 was converted to float64 by StandardScaler.\n",
      "  warnings.warn(msg, DataConversionWarning)\n",
      "C:\\Users\\Kirsten\\Anaconda3\\lib\\site-packages\\sklearn\\utils\\validation.py:595: DataConversionWarning: Data with input dtype int32 was converted to float64 by StandardScaler.\n",
      "  warnings.warn(msg, DataConversionWarning)\n",
      "C:\\Users\\Kirsten\\Anaconda3\\lib\\site-packages\\sklearn\\utils\\validation.py:595: DataConversionWarning: Data with input dtype int32 was converted to float64 by StandardScaler.\n",
      "  warnings.warn(msg, DataConversionWarning)\n",
      "C:\\Users\\Kirsten\\Anaconda3\\lib\\site-packages\\sklearn\\utils\\validation.py:595: DataConversionWarning: Data with input dtype int32 was converted to float64 by StandardScaler.\n",
      "  warnings.warn(msg, DataConversionWarning)\n",
      "C:\\Users\\Kirsten\\Anaconda3\\lib\\site-packages\\sklearn\\utils\\validation.py:595: DataConversionWarning: Data with input dtype int32 was converted to float64 by StandardScaler.\n",
      "  warnings.warn(msg, DataConversionWarning)\n",
      "C:\\Users\\Kirsten\\Anaconda3\\lib\\site-packages\\sklearn\\utils\\validation.py:595: DataConversionWarning: Data with input dtype int32 was converted to float64 by StandardScaler.\n",
      "  warnings.warn(msg, DataConversionWarning)\n",
      "C:\\Users\\Kirsten\\Anaconda3\\lib\\site-packages\\sklearn\\utils\\validation.py:595: DataConversionWarning: Data with input dtype int32 was converted to float64 by StandardScaler.\n",
      "  warnings.warn(msg, DataConversionWarning)\n",
      "C:\\Users\\Kirsten\\Anaconda3\\lib\\site-packages\\sklearn\\utils\\validation.py:595: DataConversionWarning: Data with input dtype int32 was converted to float64 by StandardScaler.\n",
      "  warnings.warn(msg, DataConversionWarning)\n",
      "C:\\Users\\Kirsten\\Anaconda3\\lib\\site-packages\\sklearn\\utils\\validation.py:595: DataConversionWarning: Data with input dtype int32 was converted to float64 by StandardScaler.\n",
      "  warnings.warn(msg, DataConversionWarning)\n",
      "C:\\Users\\Kirsten\\Anaconda3\\lib\\site-packages\\sklearn\\utils\\validation.py:595: DataConversionWarning: Data with input dtype int32 was converted to float64 by StandardScaler.\n",
      "  warnings.warn(msg, DataConversionWarning)\n",
      "C:\\Users\\Kirsten\\Anaconda3\\lib\\site-packages\\sklearn\\utils\\validation.py:595: DataConversionWarning: Data with input dtype int32 was converted to float64 by StandardScaler.\n",
      "  warnings.warn(msg, DataConversionWarning)\n",
      "C:\\Users\\Kirsten\\Anaconda3\\lib\\site-packages\\sklearn\\utils\\validation.py:595: DataConversionWarning: Data with input dtype int32 was converted to float64 by StandardScaler.\n",
      "  warnings.warn(msg, DataConversionWarning)\n",
      "C:\\Users\\Kirsten\\Anaconda3\\lib\\site-packages\\sklearn\\utils\\validation.py:595: DataConversionWarning: Data with input dtype int32 was converted to float64 by StandardScaler.\n",
      "  warnings.warn(msg, DataConversionWarning)\n",
      "C:\\Users\\Kirsten\\Anaconda3\\lib\\site-packages\\sklearn\\utils\\validation.py:595: DataConversionWarning: Data with input dtype int32 was converted to float64 by StandardScaler.\n",
      "  warnings.warn(msg, DataConversionWarning)\n",
      "C:\\Users\\Kirsten\\Anaconda3\\lib\\site-packages\\sklearn\\utils\\validation.py:595: DataConversionWarning: Data with input dtype int32 was converted to float64 by StandardScaler.\n",
      "  warnings.warn(msg, DataConversionWarning)\n",
      "C:\\Users\\Kirsten\\Anaconda3\\lib\\site-packages\\sklearn\\utils\\validation.py:595: DataConversionWarning: Data with input dtype int32 was converted to float64 by StandardScaler.\n",
      "  warnings.warn(msg, DataConversionWarning)\n",
      "C:\\Users\\Kirsten\\Anaconda3\\lib\\site-packages\\sklearn\\utils\\validation.py:595: DataConversionWarning: Data with input dtype int32 was converted to float64 by StandardScaler.\n",
      "  warnings.warn(msg, DataConversionWarning)\n",
      "C:\\Users\\Kirsten\\Anaconda3\\lib\\site-packages\\sklearn\\utils\\validation.py:595: DataConversionWarning: Data with input dtype int32 was converted to float64 by StandardScaler.\n",
      "  warnings.warn(msg, DataConversionWarning)\n",
      "C:\\Users\\Kirsten\\Anaconda3\\lib\\site-packages\\sklearn\\utils\\validation.py:595: DataConversionWarning: Data with input dtype int32 was converted to float64 by StandardScaler.\n",
      "  warnings.warn(msg, DataConversionWarning)\n",
      "C:\\Users\\Kirsten\\Anaconda3\\lib\\site-packages\\sklearn\\utils\\validation.py:595: DataConversionWarning: Data with input dtype int32 was converted to float64 by StandardScaler.\n",
      "  warnings.warn(msg, DataConversionWarning)\n",
      "C:\\Users\\Kirsten\\Anaconda3\\lib\\site-packages\\sklearn\\utils\\validation.py:595: DataConversionWarning: Data with input dtype int32 was converted to float64 by StandardScaler.\n",
      "  warnings.warn(msg, DataConversionWarning)\n",
      "C:\\Users\\Kirsten\\Anaconda3\\lib\\site-packages\\sklearn\\utils\\validation.py:595: DataConversionWarning: Data with input dtype int32 was converted to float64 by StandardScaler.\n",
      "  warnings.warn(msg, DataConversionWarning)\n",
      "C:\\Users\\Kirsten\\Anaconda3\\lib\\site-packages\\sklearn\\utils\\validation.py:595: DataConversionWarning: Data with input dtype int64 was converted to float64 by StandardScaler.\n",
      "  warnings.warn(msg, DataConversionWarning)\n",
      "C:\\Users\\Kirsten\\Anaconda3\\lib\\site-packages\\sklearn\\utils\\validation.py:595: DataConversionWarning: Data with input dtype int64 was converted to float64 by StandardScaler.\n",
      "  warnings.warn(msg, DataConversionWarning)\n",
      "C:\\Users\\Kirsten\\Anaconda3\\lib\\site-packages\\sklearn\\utils\\validation.py:595: DataConversionWarning: Data with input dtype int64 was converted to float64 by StandardScaler.\n",
      "  warnings.warn(msg, DataConversionWarning)\n",
      "C:\\Users\\Kirsten\\Anaconda3\\lib\\site-packages\\sklearn\\utils\\validation.py:595: DataConversionWarning: Data with input dtype int64 was converted to float64 by StandardScaler.\n",
      "  warnings.warn(msg, DataConversionWarning)\n",
      "C:\\Users\\Kirsten\\Anaconda3\\lib\\site-packages\\sklearn\\utils\\validation.py:595: DataConversionWarning: Data with input dtype int64 was converted to float64 by StandardScaler.\n",
      "  warnings.warn(msg, DataConversionWarning)\n",
      "C:\\Users\\Kirsten\\Anaconda3\\lib\\site-packages\\sklearn\\utils\\validation.py:595: DataConversionWarning: Data with input dtype int64 was converted to float64 by StandardScaler.\n",
      "  warnings.warn(msg, DataConversionWarning)\n",
      "C:\\Users\\Kirsten\\Anaconda3\\lib\\site-packages\\sklearn\\utils\\validation.py:595: DataConversionWarning: Data with input dtype int64 was converted to float64 by StandardScaler.\n",
      "  warnings.warn(msg, DataConversionWarning)\n",
      "C:\\Users\\Kirsten\\Anaconda3\\lib\\site-packages\\sklearn\\utils\\validation.py:595: DataConversionWarning: Data with input dtype int64 was converted to float64 by StandardScaler.\n",
      "  warnings.warn(msg, DataConversionWarning)\n",
      "C:\\Users\\Kirsten\\Anaconda3\\lib\\site-packages\\sklearn\\utils\\validation.py:595: DataConversionWarning: Data with input dtype int64 was converted to float64 by StandardScaler.\n",
      "  warnings.warn(msg, DataConversionWarning)\n",
      "C:\\Users\\Kirsten\\Anaconda3\\lib\\site-packages\\sklearn\\utils\\validation.py:595: DataConversionWarning: Data with input dtype int64 was converted to float64 by StandardScaler.\n",
      "  warnings.warn(msg, DataConversionWarning)\n"
     ]
    },
    {
     "data": {
      "text/html": [
       "<div>\n",
       "<style scoped>\n",
       "    .dataframe tbody tr th:only-of-type {\n",
       "        vertical-align: middle;\n",
       "    }\n",
       "\n",
       "    .dataframe tbody tr th {\n",
       "        vertical-align: top;\n",
       "    }\n",
       "\n",
       "    .dataframe thead th {\n",
       "        text-align: right;\n",
       "    }\n",
       "</style>\n",
       "<table border=\"1\" class=\"dataframe\">\n",
       "  <thead>\n",
       "    <tr style=\"text-align: right;\">\n",
       "      <th></th>\n",
       "      <th></th>\n",
       "      <th></th>\n",
       "      <th></th>\n",
       "      <th>special exhibit</th>\n",
       "      <th>interactive</th>\n",
       "      <th>family</th>\n",
       "      <th>audio guide</th>\n",
       "      <th>art</th>\n",
       "      <th>display</th>\n",
       "      <th>rainy day</th>\n",
       "      <th>natural</th>\n",
       "      <th>eye opening</th>\n",
       "      <th>learn</th>\n",
       "      <th>history2</th>\n",
       "      <th>permanent collection</th>\n",
       "      <th>ReviewCount</th>\n",
       "      <th>Rating</th>\n",
       "      <th>TopCouples</th>\n",
       "      <th>TopFamilies</th>\n",
       "      <th>TopFriends</th>\n",
       "      <th>TopSolo</th>\n",
       "    </tr>\n",
       "    <tr>\n",
       "      <th>MuseumName</th>\n",
       "      <th>Continent</th>\n",
       "      <th>SubRegion</th>\n",
       "      <th>Country</th>\n",
       "      <th></th>\n",
       "      <th></th>\n",
       "      <th></th>\n",
       "      <th></th>\n",
       "      <th></th>\n",
       "      <th></th>\n",
       "      <th></th>\n",
       "      <th></th>\n",
       "      <th></th>\n",
       "      <th></th>\n",
       "      <th></th>\n",
       "      <th></th>\n",
       "      <th></th>\n",
       "      <th></th>\n",
       "      <th></th>\n",
       "      <th></th>\n",
       "      <th></th>\n",
       "      <th></th>\n",
       "    </tr>\n",
       "  </thead>\n",
       "  <tbody>\n",
       "    <tr>\n",
       "      <th>The Field Museum</th>\n",
       "      <th>Americas</th>\n",
       "      <th>Northern America</th>\n",
       "      <th>USA</th>\n",
       "      <td>2.218543</td>\n",
       "      <td>-0.443672</td>\n",
       "      <td>1.948895</td>\n",
       "      <td>-0.321225</td>\n",
       "      <td>-0.344499</td>\n",
       "      <td>0.998119</td>\n",
       "      <td>-0.462792</td>\n",
       "      <td>4.348850</td>\n",
       "      <td>-0.149882</td>\n",
       "      <td>-0.197836</td>\n",
       "      <td>-0.409742</td>\n",
       "      <td>-0.336463</td>\n",
       "      <td>1.012232</td>\n",
       "      <td>0.255839</td>\n",
       "      <td>-1.438528</td>\n",
       "      <td>1.545756</td>\n",
       "      <td>-0.160489</td>\n",
       "      <td>-0.075378</td>\n",
       "    </tr>\n",
       "    <tr>\n",
       "      <th>Smithsonian National Museum of Natural History</th>\n",
       "      <th>Americas</th>\n",
       "      <th>Northern America</th>\n",
       "      <th>USA</th>\n",
       "      <td>-0.450746</td>\n",
       "      <td>-0.443672</td>\n",
       "      <td>1.948895</td>\n",
       "      <td>-0.321225</td>\n",
       "      <td>-0.344499</td>\n",
       "      <td>0.998119</td>\n",
       "      <td>-0.462792</td>\n",
       "      <td>4.348850</td>\n",
       "      <td>-0.149882</td>\n",
       "      <td>-0.197836</td>\n",
       "      <td>-0.409742</td>\n",
       "      <td>-0.336463</td>\n",
       "      <td>1.559032</td>\n",
       "      <td>0.255839</td>\n",
       "      <td>-1.438528</td>\n",
       "      <td>1.545756</td>\n",
       "      <td>-0.160489</td>\n",
       "      <td>-0.075378</td>\n",
       "    </tr>\n",
       "    <tr>\n",
       "      <th>American Museum of Natural History</th>\n",
       "      <th>Americas</th>\n",
       "      <th>Northern America</th>\n",
       "      <th>USA</th>\n",
       "      <td>2.218543</td>\n",
       "      <td>-0.443672</td>\n",
       "      <td>-0.513111</td>\n",
       "      <td>-0.321225</td>\n",
       "      <td>-0.344499</td>\n",
       "      <td>0.998119</td>\n",
       "      <td>2.160796</td>\n",
       "      <td>-0.229946</td>\n",
       "      <td>-0.149882</td>\n",
       "      <td>-0.197836</td>\n",
       "      <td>-0.409742</td>\n",
       "      <td>-0.336463</td>\n",
       "      <td>3.182058</td>\n",
       "      <td>0.255839</td>\n",
       "      <td>-1.438528</td>\n",
       "      <td>1.545756</td>\n",
       "      <td>-0.160489</td>\n",
       "      <td>-0.075378</td>\n",
       "    </tr>\n",
       "    <tr>\n",
       "      <th>National Naval Aviation Museum</th>\n",
       "      <th>Americas</th>\n",
       "      <th>Northern America</th>\n",
       "      <th>USA</th>\n",
       "      <td>-0.450746</td>\n",
       "      <td>-0.443672</td>\n",
       "      <td>1.948895</td>\n",
       "      <td>-0.321225</td>\n",
       "      <td>-0.344499</td>\n",
       "      <td>0.998119</td>\n",
       "      <td>2.160796</td>\n",
       "      <td>-0.229946</td>\n",
       "      <td>-0.149882</td>\n",
       "      <td>-0.197836</td>\n",
       "      <td>-0.409742</td>\n",
       "      <td>-0.336463</td>\n",
       "      <td>0.643525</td>\n",
       "      <td>2.012523</td>\n",
       "      <td>-1.438528</td>\n",
       "      <td>1.545756</td>\n",
       "      <td>-0.160489</td>\n",
       "      <td>-0.075378</td>\n",
       "    </tr>\n",
       "    <tr>\n",
       "      <th>National Mississippi River Museum &amp; Aquarium</th>\n",
       "      <th>Americas</th>\n",
       "      <th>Northern America</th>\n",
       "      <th>USA</th>\n",
       "      <td>-0.450746</td>\n",
       "      <td>2.253919</td>\n",
       "      <td>1.948895</td>\n",
       "      <td>-0.321225</td>\n",
       "      <td>-0.344499</td>\n",
       "      <td>0.998119</td>\n",
       "      <td>-0.462792</td>\n",
       "      <td>-0.229946</td>\n",
       "      <td>-0.149882</td>\n",
       "      <td>-0.197836</td>\n",
       "      <td>-0.409742</td>\n",
       "      <td>-0.336463</td>\n",
       "      <td>-0.128383</td>\n",
       "      <td>0.255839</td>\n",
       "      <td>-1.438528</td>\n",
       "      <td>1.545756</td>\n",
       "      <td>-0.160489</td>\n",
       "      <td>-0.075378</td>\n",
       "    </tr>\n",
       "  </tbody>\n",
       "</table>\n",
       "</div>"
      ],
      "text/plain": [
       "                                                                                   special exhibit  \\\n",
       "MuseumName                                     Continent SubRegion        Country                    \n",
       "The Field Museum                               Americas  Northern America USA             2.218543   \n",
       "Smithsonian National Museum of Natural History Americas  Northern America USA            -0.450746   \n",
       "American Museum of Natural History             Americas  Northern America USA             2.218543   \n",
       "National Naval Aviation Museum                 Americas  Northern America USA            -0.450746   \n",
       "National Mississippi River Museum & Aquarium   Americas  Northern America USA            -0.450746   \n",
       "\n",
       "                                                                                   interactive  \\\n",
       "MuseumName                                     Continent SubRegion        Country                \n",
       "The Field Museum                               Americas  Northern America USA        -0.443672   \n",
       "Smithsonian National Museum of Natural History Americas  Northern America USA        -0.443672   \n",
       "American Museum of Natural History             Americas  Northern America USA        -0.443672   \n",
       "National Naval Aviation Museum                 Americas  Northern America USA        -0.443672   \n",
       "National Mississippi River Museum & Aquarium   Americas  Northern America USA         2.253919   \n",
       "\n",
       "                                                                                     family  \\\n",
       "MuseumName                                     Continent SubRegion        Country             \n",
       "The Field Museum                               Americas  Northern America USA      1.948895   \n",
       "Smithsonian National Museum of Natural History Americas  Northern America USA      1.948895   \n",
       "American Museum of Natural History             Americas  Northern America USA     -0.513111   \n",
       "National Naval Aviation Museum                 Americas  Northern America USA      1.948895   \n",
       "National Mississippi River Museum & Aquarium   Americas  Northern America USA      1.948895   \n",
       "\n",
       "                                                                                   audio guide  \\\n",
       "MuseumName                                     Continent SubRegion        Country                \n",
       "The Field Museum                               Americas  Northern America USA        -0.321225   \n",
       "Smithsonian National Museum of Natural History Americas  Northern America USA        -0.321225   \n",
       "American Museum of Natural History             Americas  Northern America USA        -0.321225   \n",
       "National Naval Aviation Museum                 Americas  Northern America USA        -0.321225   \n",
       "National Mississippi River Museum & Aquarium   Americas  Northern America USA        -0.321225   \n",
       "\n",
       "                                                                                        art  \\\n",
       "MuseumName                                     Continent SubRegion        Country             \n",
       "The Field Museum                               Americas  Northern America USA     -0.344499   \n",
       "Smithsonian National Museum of Natural History Americas  Northern America USA     -0.344499   \n",
       "American Museum of Natural History             Americas  Northern America USA     -0.344499   \n",
       "National Naval Aviation Museum                 Americas  Northern America USA     -0.344499   \n",
       "National Mississippi River Museum & Aquarium   Americas  Northern America USA     -0.344499   \n",
       "\n",
       "                                                                                    display  \\\n",
       "MuseumName                                     Continent SubRegion        Country             \n",
       "The Field Museum                               Americas  Northern America USA      0.998119   \n",
       "Smithsonian National Museum of Natural History Americas  Northern America USA      0.998119   \n",
       "American Museum of Natural History             Americas  Northern America USA      0.998119   \n",
       "National Naval Aviation Museum                 Americas  Northern America USA      0.998119   \n",
       "National Mississippi River Museum & Aquarium   Americas  Northern America USA      0.998119   \n",
       "\n",
       "                                                                                   rainy day  \\\n",
       "MuseumName                                     Continent SubRegion        Country              \n",
       "The Field Museum                               Americas  Northern America USA      -0.462792   \n",
       "Smithsonian National Museum of Natural History Americas  Northern America USA      -0.462792   \n",
       "American Museum of Natural History             Americas  Northern America USA       2.160796   \n",
       "National Naval Aviation Museum                 Americas  Northern America USA       2.160796   \n",
       "National Mississippi River Museum & Aquarium   Americas  Northern America USA      -0.462792   \n",
       "\n",
       "                                                                                    natural  \\\n",
       "MuseumName                                     Continent SubRegion        Country             \n",
       "The Field Museum                               Americas  Northern America USA      4.348850   \n",
       "Smithsonian National Museum of Natural History Americas  Northern America USA      4.348850   \n",
       "American Museum of Natural History             Americas  Northern America USA     -0.229946   \n",
       "National Naval Aviation Museum                 Americas  Northern America USA     -0.229946   \n",
       "National Mississippi River Museum & Aquarium   Americas  Northern America USA     -0.229946   \n",
       "\n",
       "                                                                                   eye opening  \\\n",
       "MuseumName                                     Continent SubRegion        Country                \n",
       "The Field Museum                               Americas  Northern America USA        -0.149882   \n",
       "Smithsonian National Museum of Natural History Americas  Northern America USA        -0.149882   \n",
       "American Museum of Natural History             Americas  Northern America USA        -0.149882   \n",
       "National Naval Aviation Museum                 Americas  Northern America USA        -0.149882   \n",
       "National Mississippi River Museum & Aquarium   Americas  Northern America USA        -0.149882   \n",
       "\n",
       "                                                                                      learn  \\\n",
       "MuseumName                                     Continent SubRegion        Country             \n",
       "The Field Museum                               Americas  Northern America USA     -0.197836   \n",
       "Smithsonian National Museum of Natural History Americas  Northern America USA     -0.197836   \n",
       "American Museum of Natural History             Americas  Northern America USA     -0.197836   \n",
       "National Naval Aviation Museum                 Americas  Northern America USA     -0.197836   \n",
       "National Mississippi River Museum & Aquarium   Americas  Northern America USA     -0.197836   \n",
       "\n",
       "                                                                                   history2  \\\n",
       "MuseumName                                     Continent SubRegion        Country             \n",
       "The Field Museum                               Americas  Northern America USA     -0.409742   \n",
       "Smithsonian National Museum of Natural History Americas  Northern America USA     -0.409742   \n",
       "American Museum of Natural History             Americas  Northern America USA     -0.409742   \n",
       "National Naval Aviation Museum                 Americas  Northern America USA     -0.409742   \n",
       "National Mississippi River Museum & Aquarium   Americas  Northern America USA     -0.409742   \n",
       "\n",
       "                                                                                   permanent collection  \\\n",
       "MuseumName                                     Continent SubRegion        Country                         \n",
       "The Field Museum                               Americas  Northern America USA                 -0.336463   \n",
       "Smithsonian National Museum of Natural History Americas  Northern America USA                 -0.336463   \n",
       "American Museum of Natural History             Americas  Northern America USA                 -0.336463   \n",
       "National Naval Aviation Museum                 Americas  Northern America USA                 -0.336463   \n",
       "National Mississippi River Museum & Aquarium   Americas  Northern America USA                 -0.336463   \n",
       "\n",
       "                                                                                   ReviewCount  \\\n",
       "MuseumName                                     Continent SubRegion        Country                \n",
       "The Field Museum                               Americas  Northern America USA         1.012232   \n",
       "Smithsonian National Museum of Natural History Americas  Northern America USA         1.559032   \n",
       "American Museum of Natural History             Americas  Northern America USA         3.182058   \n",
       "National Naval Aviation Museum                 Americas  Northern America USA         0.643525   \n",
       "National Mississippi River Museum & Aquarium   Americas  Northern America USA        -0.128383   \n",
       "\n",
       "                                                                                     Rating  \\\n",
       "MuseumName                                     Continent SubRegion        Country             \n",
       "The Field Museum                               Americas  Northern America USA      0.255839   \n",
       "Smithsonian National Museum of Natural History Americas  Northern America USA      0.255839   \n",
       "American Museum of Natural History             Americas  Northern America USA      0.255839   \n",
       "National Naval Aviation Museum                 Americas  Northern America USA      2.012523   \n",
       "National Mississippi River Museum & Aquarium   Americas  Northern America USA      0.255839   \n",
       "\n",
       "                                                                                   TopCouples  \\\n",
       "MuseumName                                     Continent SubRegion        Country               \n",
       "The Field Museum                               Americas  Northern America USA       -1.438528   \n",
       "Smithsonian National Museum of Natural History Americas  Northern America USA       -1.438528   \n",
       "American Museum of Natural History             Americas  Northern America USA       -1.438528   \n",
       "National Naval Aviation Museum                 Americas  Northern America USA       -1.438528   \n",
       "National Mississippi River Museum & Aquarium   Americas  Northern America USA       -1.438528   \n",
       "\n",
       "                                                                                   TopFamilies  \\\n",
       "MuseumName                                     Continent SubRegion        Country                \n",
       "The Field Museum                               Americas  Northern America USA         1.545756   \n",
       "Smithsonian National Museum of Natural History Americas  Northern America USA         1.545756   \n",
       "American Museum of Natural History             Americas  Northern America USA         1.545756   \n",
       "National Naval Aviation Museum                 Americas  Northern America USA         1.545756   \n",
       "National Mississippi River Museum & Aquarium   Americas  Northern America USA         1.545756   \n",
       "\n",
       "                                                                                   TopFriends  \\\n",
       "MuseumName                                     Continent SubRegion        Country               \n",
       "The Field Museum                               Americas  Northern America USA       -0.160489   \n",
       "Smithsonian National Museum of Natural History Americas  Northern America USA       -0.160489   \n",
       "American Museum of Natural History             Americas  Northern America USA       -0.160489   \n",
       "National Naval Aviation Museum                 Americas  Northern America USA       -0.160489   \n",
       "National Mississippi River Museum & Aquarium   Americas  Northern America USA       -0.160489   \n",
       "\n",
       "                                                                                    TopSolo  \n",
       "MuseumName                                     Continent SubRegion        Country            \n",
       "The Field Museum                               Americas  Northern America USA     -0.075378  \n",
       "Smithsonian National Museum of Natural History Americas  Northern America USA     -0.075378  \n",
       "American Museum of Natural History             Americas  Northern America USA     -0.075378  \n",
       "National Naval Aviation Museum                 Americas  Northern America USA     -0.075378  \n",
       "National Mississippi River Museum & Aquarium   Americas  Northern America USA     -0.075378  "
      ]
     },
     "execution_count": 9,
     "metadata": {},
     "output_type": "execute_result"
    }
   ],
   "source": [
    "# remove NaNs\n",
    "df = df.dropna()\n",
    "\n",
    "# select the columns\n",
    "tags_to_use = ['special exhibit', 'interactive', 'family', 'audio guide', 'art', 'display', 'rainy day', 'natural', 'eye opening', 'learn', 'history2', 'permanent collection']\n",
    "numeric_columns = ['ReviewCount', 'Rating','TopCouples','TopFamilies','TopFriends','TopSolo']\n",
    "\n",
    "X_columns = tags_to_use + numeric_columns\n",
    "df = df[X_columns]\n",
    "\n",
    "# normalize the columns\n",
    "df_norm = df.copy()\n",
    "for col in X_columns:\n",
    "    df_norm[col] = StandardScaler().fit_transform(df_norm[col].values.reshape(-1, 1))\n",
    "\n",
    "print(df.shape)\n",
    "df_norm.head()"
   ]
  },
  {
   "cell_type": "markdown",
   "metadata": {},
   "source": [
    "# Model Training"
   ]
  },
  {
   "cell_type": "code",
   "execution_count": 10,
   "metadata": {},
   "outputs": [
    {
     "name": "stdout",
     "output_type": "stream",
     "text": [
      "{0, 1, 2, 3, 4, 5, 6, 7}\n",
      "Counter({1: 701, 7: 270, 2: 173, 5: 162, 0: 133, 6: 80, 4: 39, 3: 35})\n"
     ]
    }
   ],
   "source": [
    "k = 8\n",
    "kmeans = KMeans(n_clusters=k).fit(df_norm.values)\n",
    "\n",
    "print(set(kmeans.labels_))\n",
    "print(collections.Counter(kmeans.labels_))\n",
    "\n",
    "df_results = df.copy()\n",
    "df_norm['cluster'] = kmeans.labels_\n",
    "df_results['cluster'] = kmeans.labels_"
   ]
  },
  {
   "cell_type": "code",
   "execution_count": 11,
   "metadata": {
    "scrolled": true
   },
   "outputs": [
    {
     "name": "stdout",
     "output_type": "stream",
     "text": [
      "[('Western Europe', 46), ('Southern Europe', 27), ('Eastern Asia', 11), ('Northern Europe', 11), ('Eastern Europe', 10)]\n",
      "[('Northern America', 426), ('Northern Europe', 68), ('Southern Europe', 54), ('Western Europe', 53), ('Eastern Europe', 26)]\n",
      "[('Northern America', 140), ('Northern Europe', 13), ('Western Europe', 9), ('Eastern Asia', 5), ('Australia and New Zealand', 3)]\n",
      "[('Northern America', 19), ('South-eastern Asia', 5), ('Eastern Europe', 4), ('Western Europe', 3), ('Latin America and the Caribbean', 2)]\n",
      "[('Northern America', 19), ('South-eastern Asia', 4), ('Eastern Asia', 4), ('Western Asia', 3), ('Northern Europe', 3)]\n",
      "[('Northern America', 139), ('Western Europe', 12), ('Northern Europe', 5), ('Latin America and the Caribbean', 3), ('Eastern Asia', 2)]\n",
      "[('Northern America', 47), ('Northern Europe', 15), ('Western Europe', 7), ('Australia and New Zealand', 4), ('Eastern Europe', 2)]\n",
      "[('Northern America', 220), ('Northern Europe', 14), ('Western Europe', 8), ('South-eastern Asia', 6), ('Eastern Asia', 5)]\n"
     ]
    }
   ],
   "source": [
    "# Analyze the results\n",
    "df_results = df_results.reset_index()\n",
    "for cluster in sorted(set(kmeans.labels_)):\n",
    "    print(collections.Counter(df_results[df_results['cluster']==cluster]['SubRegion']).most_common(5))\n",
    "\n",
    "# n_clusters = len(set(kmeans.labels_))\n",
    "# for col in X_columns:\n",
    "#     print(col)\n",
    "#     i = 1\n",
    "#     plt.figure(figsize=(16,3))\n",
    "#     for cluster in sorted(set(kmeans.labels_)):\n",
    "#         plt.subplot(1, n_clusters, i)\n",
    "#         plt.xlim([0,df_results[col].max()])\n",
    "#         plt.hist(df_results[df_results['cluster']==cluster][col], label=str(cluster), alpha=0.3, bins=20)\n",
    "#         i += 1\n",
    "#     plt.show()"
   ]
  },
  {
   "cell_type": "code",
   "execution_count": 23,
   "metadata": {
    "scrolled": true
   },
   "outputs": [
    {
     "name": "stdout",
     "output_type": "stream",
     "text": [
      "Cluster 0\n",
      "Museums                           131\n",
      "Specialty Museums                  70\n",
      "Art Museums                        42\n",
      "History Museums                    36\n",
      "Sights & Landmarks                 19\n",
      "Historic Sites                     12\n",
      "Points of Interest & Landmarks      7\n",
      "Military Museums                    5\n",
      "Sacred & Religious Sites            3\n",
      "Architectural Buildings             2\n",
      "Name: 0, dtype: int64\n",
      "\n",
      "Cluster 1\n",
      "Museums                           672\n",
      "Specialty Museums                 429\n",
      "History Museums                   211\n",
      "Art Museums                       105\n",
      "Sights & Landmarks                 71\n",
      "Historic Sites                     39\n",
      "Military Museums                   30\n",
      "Nature & Parks                     19\n",
      "Points of Interest & Landmarks     18\n",
      "Traveler Resources                 12\n",
      "Name: 1, dtype: int64\n",
      "\n",
      "Cluster 2\n",
      "Museums                         171\n",
      "Specialty Museums                80\n",
      "Science Museums                  45\n",
      "History Museums                  32\n",
      "Children's Museums               28\n",
      "Natural History Museums          15\n",
      "Military Museums                  7\n",
      "Nature & Parks                    5\n",
      "Observatories & Planetariums      5\n",
      "Art Museums                       3\n",
      "Name: 2, dtype: int64\n",
      "\n",
      "Cluster 3\n",
      "Museums                           35\n",
      "Specialty Museums                 22\n",
      "History Museums                   17\n",
      "Sights & Landmarks                 3\n",
      "Points of Interest & Landmarks     2\n",
      "Shopping                           2\n",
      "Art Museums                        2\n",
      "Historic Sites                     1\n",
      "Gift & Specialty Shops             1\n",
      "Monuments & Statues                1\n",
      "Name: 3, dtype: int64\n",
      "\n",
      "Cluster 4\n",
      "Museums                    35\n",
      "Specialty Museums          17\n",
      "Art Museums                13\n",
      "Sights & Landmarks          5\n",
      "History Museums             3\n",
      "Shopping                    2\n",
      "Natural History Museums     2\n",
      "Tours                       2\n",
      "Cultural Tours              2\n",
      "Traveler Resources          2\n",
      "Name: 4, dtype: int64\n",
      "\n",
      "Cluster 5\n",
      "Museums                    162\n",
      "Art Museums                130\n",
      "Specialty Museums           35\n",
      "History Museums              8\n",
      "Sights & Landmarks           6\n",
      "Gardens                      4\n",
      "Historic Sites               4\n",
      "Nature & Parks               4\n",
      "Children's Museums           2\n",
      "Natural History Museums      1\n",
      "Name: 5, dtype: int64\n",
      "\n",
      "Cluster 6\n",
      "Museums                         80\n",
      "Specialty Museums               40\n",
      "Natural History Museums         28\n",
      "History Museums                 19\n",
      "Science Museums                  5\n",
      "Art Museums                      4\n",
      "Children's Museums               4\n",
      "Sights & Landmarks               3\n",
      "Shopping                         2\n",
      "Observatories & Planetariums     2\n",
      "Name: 6, dtype: int64\n",
      "\n",
      "Cluster 7\n",
      "Museums                    261\n",
      "Specialty Museums          165\n",
      "History Museums             57\n",
      "Military Museums            27\n",
      "Sights & Landmarks          22\n",
      "Natural History Museums     16\n",
      "Art Museums                 15\n",
      "Science Museums             11\n",
      "Children's Museums          10\n",
      "Historic Sites               9\n",
      "Name: 7, dtype: int64\n",
      "\n"
     ]
    }
   ],
   "source": [
    "# add the clusters to the original dataset in order to analyze the museum categories in each cluster\n",
    "df_copy = pd.concat([df_copy.reset_index(),df_results['cluster']],axis=1)\n",
    "\n",
    "# count the number of museums of each category per cluster\n",
    "df_cluster_categories = df_copy.groupby('cluster')[categories].sum().T\n",
    "\n",
    "# print the top museum categories and frequency per cluster\n",
    "for i in range(8):\n",
    "    print('Cluster',i)\n",
    "    print(df_cluster_categories[i].sort_values(ascending=False).head(10))\n",
    "    print('')"
   ]
  },
  {
   "cell_type": "code",
   "execution_count": 15,
   "metadata": {},
   "outputs": [
    {
     "name": "stdout",
     "output_type": "stream",
     "text": [
      "(1593, 18)\n"
     ]
    },
    {
     "name": "stderr",
     "output_type": "stream",
     "text": [
      "C:\\Users\\Kirsten\\Anaconda3\\lib\\site-packages\\sklearn\\utils\\validation.py:595: DataConversionWarning: Data with input dtype int32 was converted to float64 by StandardScaler.\n",
      "  warnings.warn(msg, DataConversionWarning)\n",
      "C:\\Users\\Kirsten\\Anaconda3\\lib\\site-packages\\sklearn\\utils\\validation.py:595: DataConversionWarning: Data with input dtype int32 was converted to float64 by StandardScaler.\n",
      "  warnings.warn(msg, DataConversionWarning)\n",
      "C:\\Users\\Kirsten\\Anaconda3\\lib\\site-packages\\sklearn\\utils\\validation.py:595: DataConversionWarning: Data with input dtype int32 was converted to float64 by StandardScaler.\n",
      "  warnings.warn(msg, DataConversionWarning)\n",
      "C:\\Users\\Kirsten\\Anaconda3\\lib\\site-packages\\sklearn\\utils\\validation.py:595: DataConversionWarning: Data with input dtype int32 was converted to float64 by StandardScaler.\n",
      "  warnings.warn(msg, DataConversionWarning)\n",
      "C:\\Users\\Kirsten\\Anaconda3\\lib\\site-packages\\sklearn\\utils\\validation.py:595: DataConversionWarning: Data with input dtype int32 was converted to float64 by StandardScaler.\n",
      "  warnings.warn(msg, DataConversionWarning)\n",
      "C:\\Users\\Kirsten\\Anaconda3\\lib\\site-packages\\sklearn\\utils\\validation.py:595: DataConversionWarning: Data with input dtype int32 was converted to float64 by StandardScaler.\n",
      "  warnings.warn(msg, DataConversionWarning)\n",
      "C:\\Users\\Kirsten\\Anaconda3\\lib\\site-packages\\sklearn\\utils\\validation.py:595: DataConversionWarning: Data with input dtype int32 was converted to float64 by StandardScaler.\n",
      "  warnings.warn(msg, DataConversionWarning)\n",
      "C:\\Users\\Kirsten\\Anaconda3\\lib\\site-packages\\sklearn\\utils\\validation.py:595: DataConversionWarning: Data with input dtype int32 was converted to float64 by StandardScaler.\n",
      "  warnings.warn(msg, DataConversionWarning)\n",
      "C:\\Users\\Kirsten\\Anaconda3\\lib\\site-packages\\sklearn\\utils\\validation.py:595: DataConversionWarning: Data with input dtype int32 was converted to float64 by StandardScaler.\n",
      "  warnings.warn(msg, DataConversionWarning)\n",
      "C:\\Users\\Kirsten\\Anaconda3\\lib\\site-packages\\sklearn\\utils\\validation.py:595: DataConversionWarning: Data with input dtype int32 was converted to float64 by StandardScaler.\n",
      "  warnings.warn(msg, DataConversionWarning)\n",
      "C:\\Users\\Kirsten\\Anaconda3\\lib\\site-packages\\sklearn\\utils\\validation.py:595: DataConversionWarning: Data with input dtype int32 was converted to float64 by StandardScaler.\n",
      "  warnings.warn(msg, DataConversionWarning)\n",
      "C:\\Users\\Kirsten\\Anaconda3\\lib\\site-packages\\sklearn\\utils\\validation.py:595: DataConversionWarning: Data with input dtype int32 was converted to float64 by StandardScaler.\n",
      "  warnings.warn(msg, DataConversionWarning)\n",
      "C:\\Users\\Kirsten\\Anaconda3\\lib\\site-packages\\sklearn\\utils\\validation.py:595: DataConversionWarning: Data with input dtype int32 was converted to float64 by StandardScaler.\n",
      "  warnings.warn(msg, DataConversionWarning)\n",
      "C:\\Users\\Kirsten\\Anaconda3\\lib\\site-packages\\sklearn\\utils\\validation.py:595: DataConversionWarning: Data with input dtype int32 was converted to float64 by StandardScaler.\n",
      "  warnings.warn(msg, DataConversionWarning)\n",
      "C:\\Users\\Kirsten\\Anaconda3\\lib\\site-packages\\sklearn\\utils\\validation.py:595: DataConversionWarning: Data with input dtype int32 was converted to float64 by StandardScaler.\n",
      "  warnings.warn(msg, DataConversionWarning)\n",
      "C:\\Users\\Kirsten\\Anaconda3\\lib\\site-packages\\sklearn\\utils\\validation.py:595: DataConversionWarning: Data with input dtype int32 was converted to float64 by StandardScaler.\n",
      "  warnings.warn(msg, DataConversionWarning)\n",
      "C:\\Users\\Kirsten\\Anaconda3\\lib\\site-packages\\sklearn\\utils\\validation.py:595: DataConversionWarning: Data with input dtype int32 was converted to float64 by StandardScaler.\n",
      "  warnings.warn(msg, DataConversionWarning)\n",
      "C:\\Users\\Kirsten\\Anaconda3\\lib\\site-packages\\sklearn\\utils\\validation.py:595: DataConversionWarning: Data with input dtype int32 was converted to float64 by StandardScaler.\n",
      "  warnings.warn(msg, DataConversionWarning)\n",
      "C:\\Users\\Kirsten\\Anaconda3\\lib\\site-packages\\sklearn\\utils\\validation.py:595: DataConversionWarning: Data with input dtype int32 was converted to float64 by StandardScaler.\n",
      "  warnings.warn(msg, DataConversionWarning)\n",
      "C:\\Users\\Kirsten\\Anaconda3\\lib\\site-packages\\sklearn\\utils\\validation.py:595: DataConversionWarning: Data with input dtype int32 was converted to float64 by StandardScaler.\n",
      "  warnings.warn(msg, DataConversionWarning)\n",
      "C:\\Users\\Kirsten\\Anaconda3\\lib\\site-packages\\sklearn\\utils\\validation.py:595: DataConversionWarning: Data with input dtype int32 was converted to float64 by StandardScaler.\n",
      "  warnings.warn(msg, DataConversionWarning)\n",
      "C:\\Users\\Kirsten\\Anaconda3\\lib\\site-packages\\sklearn\\utils\\validation.py:595: DataConversionWarning: Data with input dtype int32 was converted to float64 by StandardScaler.\n",
      "  warnings.warn(msg, DataConversionWarning)\n",
      "C:\\Users\\Kirsten\\Anaconda3\\lib\\site-packages\\sklearn\\utils\\validation.py:595: DataConversionWarning: Data with input dtype int32 was converted to float64 by StandardScaler.\n",
      "  warnings.warn(msg, DataConversionWarning)\n",
      "C:\\Users\\Kirsten\\Anaconda3\\lib\\site-packages\\sklearn\\utils\\validation.py:595: DataConversionWarning: Data with input dtype int32 was converted to float64 by StandardScaler.\n",
      "  warnings.warn(msg, DataConversionWarning)\n",
      "C:\\Users\\Kirsten\\Anaconda3\\lib\\site-packages\\sklearn\\utils\\validation.py:595: DataConversionWarning: Data with input dtype int64 was converted to float64 by StandardScaler.\n",
      "  warnings.warn(msg, DataConversionWarning)\n",
      "C:\\Users\\Kirsten\\Anaconda3\\lib\\site-packages\\sklearn\\utils\\validation.py:595: DataConversionWarning: Data with input dtype int64 was converted to float64 by StandardScaler.\n",
      "  warnings.warn(msg, DataConversionWarning)\n",
      "C:\\Users\\Kirsten\\Anaconda3\\lib\\site-packages\\sklearn\\utils\\validation.py:595: DataConversionWarning: Data with input dtype int64 was converted to float64 by StandardScaler.\n",
      "  warnings.warn(msg, DataConversionWarning)\n",
      "C:\\Users\\Kirsten\\Anaconda3\\lib\\site-packages\\sklearn\\utils\\validation.py:595: DataConversionWarning: Data with input dtype int64 was converted to float64 by StandardScaler.\n",
      "  warnings.warn(msg, DataConversionWarning)\n",
      "C:\\Users\\Kirsten\\Anaconda3\\lib\\site-packages\\sklearn\\utils\\validation.py:595: DataConversionWarning: Data with input dtype int64 was converted to float64 by StandardScaler.\n",
      "  warnings.warn(msg, DataConversionWarning)\n",
      "C:\\Users\\Kirsten\\Anaconda3\\lib\\site-packages\\sklearn\\utils\\validation.py:595: DataConversionWarning: Data with input dtype int64 was converted to float64 by StandardScaler.\n",
      "  warnings.warn(msg, DataConversionWarning)\n",
      "C:\\Users\\Kirsten\\Anaconda3\\lib\\site-packages\\sklearn\\utils\\validation.py:595: DataConversionWarning: Data with input dtype int64 was converted to float64 by StandardScaler.\n",
      "  warnings.warn(msg, DataConversionWarning)\n",
      "C:\\Users\\Kirsten\\Anaconda3\\lib\\site-packages\\sklearn\\utils\\validation.py:595: DataConversionWarning: Data with input dtype int64 was converted to float64 by StandardScaler.\n",
      "  warnings.warn(msg, DataConversionWarning)\n",
      "C:\\Users\\Kirsten\\Anaconda3\\lib\\site-packages\\sklearn\\utils\\validation.py:595: DataConversionWarning: Data with input dtype int64 was converted to float64 by StandardScaler.\n",
      "  warnings.warn(msg, DataConversionWarning)\n",
      "C:\\Users\\Kirsten\\Anaconda3\\lib\\site-packages\\sklearn\\utils\\validation.py:595: DataConversionWarning: Data with input dtype int64 was converted to float64 by StandardScaler.\n",
      "  warnings.warn(msg, DataConversionWarning)\n"
     ]
    },
    {
     "data": {
      "text/html": [
       "<div>\n",
       "<style scoped>\n",
       "    .dataframe tbody tr th:only-of-type {\n",
       "        vertical-align: middle;\n",
       "    }\n",
       "\n",
       "    .dataframe tbody tr th {\n",
       "        vertical-align: top;\n",
       "    }\n",
       "\n",
       "    .dataframe thead th {\n",
       "        text-align: right;\n",
       "    }\n",
       "</style>\n",
       "<table border=\"1\" class=\"dataframe\">\n",
       "  <thead>\n",
       "    <tr style=\"text-align: right;\">\n",
       "      <th></th>\n",
       "      <th></th>\n",
       "      <th></th>\n",
       "      <th></th>\n",
       "      <th>special exhibit</th>\n",
       "      <th>interactive</th>\n",
       "      <th>family</th>\n",
       "      <th>audio guide</th>\n",
       "      <th>art</th>\n",
       "      <th>display</th>\n",
       "      <th>rainy day</th>\n",
       "      <th>natural</th>\n",
       "      <th>eye opening</th>\n",
       "      <th>learn</th>\n",
       "      <th>history2</th>\n",
       "      <th>permanent collection</th>\n",
       "      <th>ReviewCount</th>\n",
       "      <th>Rating</th>\n",
       "      <th>TopCouples</th>\n",
       "      <th>TopFamilies</th>\n",
       "      <th>TopFriends</th>\n",
       "      <th>TopSolo</th>\n",
       "      <th>cluster</th>\n",
       "    </tr>\n",
       "    <tr>\n",
       "      <th>MuseumName</th>\n",
       "      <th>Continent</th>\n",
       "      <th>SubRegion</th>\n",
       "      <th>Country</th>\n",
       "      <th></th>\n",
       "      <th></th>\n",
       "      <th></th>\n",
       "      <th></th>\n",
       "      <th></th>\n",
       "      <th></th>\n",
       "      <th></th>\n",
       "      <th></th>\n",
       "      <th></th>\n",
       "      <th></th>\n",
       "      <th></th>\n",
       "      <th></th>\n",
       "      <th></th>\n",
       "      <th></th>\n",
       "      <th></th>\n",
       "      <th></th>\n",
       "      <th></th>\n",
       "      <th></th>\n",
       "      <th></th>\n",
       "    </tr>\n",
       "  </thead>\n",
       "  <tbody>\n",
       "    <tr>\n",
       "      <th>The Field Museum</th>\n",
       "      <th>Americas</th>\n",
       "      <th>Northern America</th>\n",
       "      <th>USA</th>\n",
       "      <td>2.218543</td>\n",
       "      <td>-0.443672</td>\n",
       "      <td>1.948895</td>\n",
       "      <td>-0.321225</td>\n",
       "      <td>-0.344499</td>\n",
       "      <td>0.998119</td>\n",
       "      <td>-0.462792</td>\n",
       "      <td>4.348850</td>\n",
       "      <td>-0.149882</td>\n",
       "      <td>-0.197836</td>\n",
       "      <td>-0.409742</td>\n",
       "      <td>-0.336463</td>\n",
       "      <td>1.012232</td>\n",
       "      <td>0.255839</td>\n",
       "      <td>-1.438528</td>\n",
       "      <td>1.545756</td>\n",
       "      <td>-0.160489</td>\n",
       "      <td>-0.075378</td>\n",
       "      <td>6</td>\n",
       "    </tr>\n",
       "    <tr>\n",
       "      <th>Smithsonian National Museum of Natural History</th>\n",
       "      <th>Americas</th>\n",
       "      <th>Northern America</th>\n",
       "      <th>USA</th>\n",
       "      <td>-0.450746</td>\n",
       "      <td>-0.443672</td>\n",
       "      <td>1.948895</td>\n",
       "      <td>-0.321225</td>\n",
       "      <td>-0.344499</td>\n",
       "      <td>0.998119</td>\n",
       "      <td>-0.462792</td>\n",
       "      <td>4.348850</td>\n",
       "      <td>-0.149882</td>\n",
       "      <td>-0.197836</td>\n",
       "      <td>-0.409742</td>\n",
       "      <td>-0.336463</td>\n",
       "      <td>1.559032</td>\n",
       "      <td>0.255839</td>\n",
       "      <td>-1.438528</td>\n",
       "      <td>1.545756</td>\n",
       "      <td>-0.160489</td>\n",
       "      <td>-0.075378</td>\n",
       "      <td>6</td>\n",
       "    </tr>\n",
       "    <tr>\n",
       "      <th>American Museum of Natural History</th>\n",
       "      <th>Americas</th>\n",
       "      <th>Northern America</th>\n",
       "      <th>USA</th>\n",
       "      <td>2.218543</td>\n",
       "      <td>-0.443672</td>\n",
       "      <td>-0.513111</td>\n",
       "      <td>-0.321225</td>\n",
       "      <td>-0.344499</td>\n",
       "      <td>0.998119</td>\n",
       "      <td>2.160796</td>\n",
       "      <td>-0.229946</td>\n",
       "      <td>-0.149882</td>\n",
       "      <td>-0.197836</td>\n",
       "      <td>-0.409742</td>\n",
       "      <td>-0.336463</td>\n",
       "      <td>3.182058</td>\n",
       "      <td>0.255839</td>\n",
       "      <td>-1.438528</td>\n",
       "      <td>1.545756</td>\n",
       "      <td>-0.160489</td>\n",
       "      <td>-0.075378</td>\n",
       "      <td>7</td>\n",
       "    </tr>\n",
       "    <tr>\n",
       "      <th>National Naval Aviation Museum</th>\n",
       "      <th>Americas</th>\n",
       "      <th>Northern America</th>\n",
       "      <th>USA</th>\n",
       "      <td>-0.450746</td>\n",
       "      <td>-0.443672</td>\n",
       "      <td>1.948895</td>\n",
       "      <td>-0.321225</td>\n",
       "      <td>-0.344499</td>\n",
       "      <td>0.998119</td>\n",
       "      <td>2.160796</td>\n",
       "      <td>-0.229946</td>\n",
       "      <td>-0.149882</td>\n",
       "      <td>-0.197836</td>\n",
       "      <td>-0.409742</td>\n",
       "      <td>-0.336463</td>\n",
       "      <td>0.643525</td>\n",
       "      <td>2.012523</td>\n",
       "      <td>-1.438528</td>\n",
       "      <td>1.545756</td>\n",
       "      <td>-0.160489</td>\n",
       "      <td>-0.075378</td>\n",
       "      <td>7</td>\n",
       "    </tr>\n",
       "    <tr>\n",
       "      <th>National Mississippi River Museum &amp; Aquarium</th>\n",
       "      <th>Americas</th>\n",
       "      <th>Northern America</th>\n",
       "      <th>USA</th>\n",
       "      <td>-0.450746</td>\n",
       "      <td>2.253919</td>\n",
       "      <td>1.948895</td>\n",
       "      <td>-0.321225</td>\n",
       "      <td>-0.344499</td>\n",
       "      <td>0.998119</td>\n",
       "      <td>-0.462792</td>\n",
       "      <td>-0.229946</td>\n",
       "      <td>-0.149882</td>\n",
       "      <td>-0.197836</td>\n",
       "      <td>-0.409742</td>\n",
       "      <td>-0.336463</td>\n",
       "      <td>-0.128383</td>\n",
       "      <td>0.255839</td>\n",
       "      <td>-1.438528</td>\n",
       "      <td>1.545756</td>\n",
       "      <td>-0.160489</td>\n",
       "      <td>-0.075378</td>\n",
       "      <td>2</td>\n",
       "    </tr>\n",
       "  </tbody>\n",
       "</table>\n",
       "</div>"
      ],
      "text/plain": [
       "                                                                                   special exhibit  \\\n",
       "MuseumName                                     Continent SubRegion        Country                    \n",
       "The Field Museum                               Americas  Northern America USA             2.218543   \n",
       "Smithsonian National Museum of Natural History Americas  Northern America USA            -0.450746   \n",
       "American Museum of Natural History             Americas  Northern America USA             2.218543   \n",
       "National Naval Aviation Museum                 Americas  Northern America USA            -0.450746   \n",
       "National Mississippi River Museum & Aquarium   Americas  Northern America USA            -0.450746   \n",
       "\n",
       "                                                                                   interactive  \\\n",
       "MuseumName                                     Continent SubRegion        Country                \n",
       "The Field Museum                               Americas  Northern America USA        -0.443672   \n",
       "Smithsonian National Museum of Natural History Americas  Northern America USA        -0.443672   \n",
       "American Museum of Natural History             Americas  Northern America USA        -0.443672   \n",
       "National Naval Aviation Museum                 Americas  Northern America USA        -0.443672   \n",
       "National Mississippi River Museum & Aquarium   Americas  Northern America USA         2.253919   \n",
       "\n",
       "                                                                                     family  \\\n",
       "MuseumName                                     Continent SubRegion        Country             \n",
       "The Field Museum                               Americas  Northern America USA      1.948895   \n",
       "Smithsonian National Museum of Natural History Americas  Northern America USA      1.948895   \n",
       "American Museum of Natural History             Americas  Northern America USA     -0.513111   \n",
       "National Naval Aviation Museum                 Americas  Northern America USA      1.948895   \n",
       "National Mississippi River Museum & Aquarium   Americas  Northern America USA      1.948895   \n",
       "\n",
       "                                                                                   audio guide  \\\n",
       "MuseumName                                     Continent SubRegion        Country                \n",
       "The Field Museum                               Americas  Northern America USA        -0.321225   \n",
       "Smithsonian National Museum of Natural History Americas  Northern America USA        -0.321225   \n",
       "American Museum of Natural History             Americas  Northern America USA        -0.321225   \n",
       "National Naval Aviation Museum                 Americas  Northern America USA        -0.321225   \n",
       "National Mississippi River Museum & Aquarium   Americas  Northern America USA        -0.321225   \n",
       "\n",
       "                                                                                        art  \\\n",
       "MuseumName                                     Continent SubRegion        Country             \n",
       "The Field Museum                               Americas  Northern America USA     -0.344499   \n",
       "Smithsonian National Museum of Natural History Americas  Northern America USA     -0.344499   \n",
       "American Museum of Natural History             Americas  Northern America USA     -0.344499   \n",
       "National Naval Aviation Museum                 Americas  Northern America USA     -0.344499   \n",
       "National Mississippi River Museum & Aquarium   Americas  Northern America USA     -0.344499   \n",
       "\n",
       "                                                                                    display  \\\n",
       "MuseumName                                     Continent SubRegion        Country             \n",
       "The Field Museum                               Americas  Northern America USA      0.998119   \n",
       "Smithsonian National Museum of Natural History Americas  Northern America USA      0.998119   \n",
       "American Museum of Natural History             Americas  Northern America USA      0.998119   \n",
       "National Naval Aviation Museum                 Americas  Northern America USA      0.998119   \n",
       "National Mississippi River Museum & Aquarium   Americas  Northern America USA      0.998119   \n",
       "\n",
       "                                                                                   rainy day  \\\n",
       "MuseumName                                     Continent SubRegion        Country              \n",
       "The Field Museum                               Americas  Northern America USA      -0.462792   \n",
       "Smithsonian National Museum of Natural History Americas  Northern America USA      -0.462792   \n",
       "American Museum of Natural History             Americas  Northern America USA       2.160796   \n",
       "National Naval Aviation Museum                 Americas  Northern America USA       2.160796   \n",
       "National Mississippi River Museum & Aquarium   Americas  Northern America USA      -0.462792   \n",
       "\n",
       "                                                                                    natural  \\\n",
       "MuseumName                                     Continent SubRegion        Country             \n",
       "The Field Museum                               Americas  Northern America USA      4.348850   \n",
       "Smithsonian National Museum of Natural History Americas  Northern America USA      4.348850   \n",
       "American Museum of Natural History             Americas  Northern America USA     -0.229946   \n",
       "National Naval Aviation Museum                 Americas  Northern America USA     -0.229946   \n",
       "National Mississippi River Museum & Aquarium   Americas  Northern America USA     -0.229946   \n",
       "\n",
       "                                                                                   eye opening  \\\n",
       "MuseumName                                     Continent SubRegion        Country                \n",
       "The Field Museum                               Americas  Northern America USA        -0.149882   \n",
       "Smithsonian National Museum of Natural History Americas  Northern America USA        -0.149882   \n",
       "American Museum of Natural History             Americas  Northern America USA        -0.149882   \n",
       "National Naval Aviation Museum                 Americas  Northern America USA        -0.149882   \n",
       "National Mississippi River Museum & Aquarium   Americas  Northern America USA        -0.149882   \n",
       "\n",
       "                                                                                      learn  \\\n",
       "MuseumName                                     Continent SubRegion        Country             \n",
       "The Field Museum                               Americas  Northern America USA     -0.197836   \n",
       "Smithsonian National Museum of Natural History Americas  Northern America USA     -0.197836   \n",
       "American Museum of Natural History             Americas  Northern America USA     -0.197836   \n",
       "National Naval Aviation Museum                 Americas  Northern America USA     -0.197836   \n",
       "National Mississippi River Museum & Aquarium   Americas  Northern America USA     -0.197836   \n",
       "\n",
       "                                                                                   history2  \\\n",
       "MuseumName                                     Continent SubRegion        Country             \n",
       "The Field Museum                               Americas  Northern America USA     -0.409742   \n",
       "Smithsonian National Museum of Natural History Americas  Northern America USA     -0.409742   \n",
       "American Museum of Natural History             Americas  Northern America USA     -0.409742   \n",
       "National Naval Aviation Museum                 Americas  Northern America USA     -0.409742   \n",
       "National Mississippi River Museum & Aquarium   Americas  Northern America USA     -0.409742   \n",
       "\n",
       "                                                                                   permanent collection  \\\n",
       "MuseumName                                     Continent SubRegion        Country                         \n",
       "The Field Museum                               Americas  Northern America USA                 -0.336463   \n",
       "Smithsonian National Museum of Natural History Americas  Northern America USA                 -0.336463   \n",
       "American Museum of Natural History             Americas  Northern America USA                 -0.336463   \n",
       "National Naval Aviation Museum                 Americas  Northern America USA                 -0.336463   \n",
       "National Mississippi River Museum & Aquarium   Americas  Northern America USA                 -0.336463   \n",
       "\n",
       "                                                                                   ReviewCount  \\\n",
       "MuseumName                                     Continent SubRegion        Country                \n",
       "The Field Museum                               Americas  Northern America USA         1.012232   \n",
       "Smithsonian National Museum of Natural History Americas  Northern America USA         1.559032   \n",
       "American Museum of Natural History             Americas  Northern America USA         3.182058   \n",
       "National Naval Aviation Museum                 Americas  Northern America USA         0.643525   \n",
       "National Mississippi River Museum & Aquarium   Americas  Northern America USA        -0.128383   \n",
       "\n",
       "                                                                                     Rating  \\\n",
       "MuseumName                                     Continent SubRegion        Country             \n",
       "The Field Museum                               Americas  Northern America USA      0.255839   \n",
       "Smithsonian National Museum of Natural History Americas  Northern America USA      0.255839   \n",
       "American Museum of Natural History             Americas  Northern America USA      0.255839   \n",
       "National Naval Aviation Museum                 Americas  Northern America USA      2.012523   \n",
       "National Mississippi River Museum & Aquarium   Americas  Northern America USA      0.255839   \n",
       "\n",
       "                                                                                   TopCouples  \\\n",
       "MuseumName                                     Continent SubRegion        Country               \n",
       "The Field Museum                               Americas  Northern America USA       -1.438528   \n",
       "Smithsonian National Museum of Natural History Americas  Northern America USA       -1.438528   \n",
       "American Museum of Natural History             Americas  Northern America USA       -1.438528   \n",
       "National Naval Aviation Museum                 Americas  Northern America USA       -1.438528   \n",
       "National Mississippi River Museum & Aquarium   Americas  Northern America USA       -1.438528   \n",
       "\n",
       "                                                                                   TopFamilies  \\\n",
       "MuseumName                                     Continent SubRegion        Country                \n",
       "The Field Museum                               Americas  Northern America USA         1.545756   \n",
       "Smithsonian National Museum of Natural History Americas  Northern America USA         1.545756   \n",
       "American Museum of Natural History             Americas  Northern America USA         1.545756   \n",
       "National Naval Aviation Museum                 Americas  Northern America USA         1.545756   \n",
       "National Mississippi River Museum & Aquarium   Americas  Northern America USA         1.545756   \n",
       "\n",
       "                                                                                   TopFriends  \\\n",
       "MuseumName                                     Continent SubRegion        Country               \n",
       "The Field Museum                               Americas  Northern America USA       -0.160489   \n",
       "Smithsonian National Museum of Natural History Americas  Northern America USA       -0.160489   \n",
       "American Museum of Natural History             Americas  Northern America USA       -0.160489   \n",
       "National Naval Aviation Museum                 Americas  Northern America USA       -0.160489   \n",
       "National Mississippi River Museum & Aquarium   Americas  Northern America USA       -0.160489   \n",
       "\n",
       "                                                                                    TopSolo  \\\n",
       "MuseumName                                     Continent SubRegion        Country             \n",
       "The Field Museum                               Americas  Northern America USA     -0.075378   \n",
       "Smithsonian National Museum of Natural History Americas  Northern America USA     -0.075378   \n",
       "American Museum of Natural History             Americas  Northern America USA     -0.075378   \n",
       "National Naval Aviation Museum                 Americas  Northern America USA     -0.075378   \n",
       "National Mississippi River Museum & Aquarium   Americas  Northern America USA     -0.075378   \n",
       "\n",
       "                                                                                   cluster  \n",
       "MuseumName                                     Continent SubRegion        Country           \n",
       "The Field Museum                               Americas  Northern America USA            6  \n",
       "Smithsonian National Museum of Natural History Americas  Northern America USA            6  \n",
       "American Museum of Natural History             Americas  Northern America USA            7  \n",
       "National Naval Aviation Museum                 Americas  Northern America USA            7  \n",
       "National Mississippi River Museum & Aquarium   Americas  Northern America USA            2  "
      ]
     },
     "execution_count": 15,
     "metadata": {},
     "output_type": "execute_result"
    }
   ],
   "source": [
    "# normalize the results\n",
    "df_results_norm = df_results.copy()\n",
    "for col in X_columns:\n",
    "    df_results_norm[col] = StandardScaler().fit_transform(df_results_norm[col].values.reshape(-1, 1))\n",
    "\n",
    "print(df.shape)\n",
    "df_norm.head()"
   ]
  },
  {
   "cell_type": "code",
   "execution_count": 17,
   "metadata": {
    "scrolled": false
   },
   "outputs": [
    {
     "data": {
      "text/html": [
       "<div>\n",
       "<style scoped>\n",
       "    .dataframe tbody tr th:only-of-type {\n",
       "        vertical-align: middle;\n",
       "    }\n",
       "\n",
       "    .dataframe tbody tr th {\n",
       "        vertical-align: top;\n",
       "    }\n",
       "\n",
       "    .dataframe thead th {\n",
       "        text-align: right;\n",
       "    }\n",
       "</style>\n",
       "<table border=\"1\" class=\"dataframe\">\n",
       "  <thead>\n",
       "    <tr style=\"text-align: right;\">\n",
       "      <th>cluster</th>\n",
       "      <th>0</th>\n",
       "      <th>1</th>\n",
       "      <th>2</th>\n",
       "      <th>3</th>\n",
       "      <th>4</th>\n",
       "      <th>5</th>\n",
       "      <th>6</th>\n",
       "      <th>7</th>\n",
       "    </tr>\n",
       "  </thead>\n",
       "  <tbody>\n",
       "    <tr>\n",
       "      <th>special exhibit</th>\n",
       "      <td>-0.25</td>\n",
       "      <td>-0.23</td>\n",
       "      <td>-0.07</td>\n",
       "      <td>-0.45</td>\n",
       "      <td>-0.11</td>\n",
       "      <td>1.58</td>\n",
       "      <td>0.18</td>\n",
       "      <td>-0.17</td>\n",
       "    </tr>\n",
       "    <tr>\n",
       "      <th>interactive</th>\n",
       "      <td>-0.26</td>\n",
       "      <td>-0.23</td>\n",
       "      <td>2.25</td>\n",
       "      <td>-0.06</td>\n",
       "      <td>-0.37</td>\n",
       "      <td>-0.41</td>\n",
       "      <td>0.03</td>\n",
       "      <td>-0.41</td>\n",
       "    </tr>\n",
       "    <tr>\n",
       "      <th>family</th>\n",
       "      <td>-0.48</td>\n",
       "      <td>-0.33</td>\n",
       "      <td>1.58</td>\n",
       "      <td>-0.51</td>\n",
       "      <td>-0.45</td>\n",
       "      <td>-0.50</td>\n",
       "      <td>0.96</td>\n",
       "      <td>0.23</td>\n",
       "    </tr>\n",
       "    <tr>\n",
       "      <th>audio guide</th>\n",
       "      <td>2.98</td>\n",
       "      <td>-0.32</td>\n",
       "      <td>-0.32</td>\n",
       "      <td>0.17</td>\n",
       "      <td>0.03</td>\n",
       "      <td>-0.15</td>\n",
       "      <td>-0.15</td>\n",
       "      <td>-0.32</td>\n",
       "    </tr>\n",
       "    <tr>\n",
       "      <th>art</th>\n",
       "      <td>0.68</td>\n",
       "      <td>-0.15</td>\n",
       "      <td>-0.33</td>\n",
       "      <td>-0.34</td>\n",
       "      <td>-0.01</td>\n",
       "      <td>1.10</td>\n",
       "      <td>-0.30</td>\n",
       "      <td>-0.27</td>\n",
       "    </tr>\n",
       "    <tr>\n",
       "      <th>display</th>\n",
       "      <td>0.16</td>\n",
       "      <td>-0.03</td>\n",
       "      <td>-0.41</td>\n",
       "      <td>-0.26</td>\n",
       "      <td>-0.59</td>\n",
       "      <td>0.50</td>\n",
       "      <td>-0.00</td>\n",
       "      <td>0.07</td>\n",
       "    </tr>\n",
       "    <tr>\n",
       "      <th>rainy day</th>\n",
       "      <td>-0.05</td>\n",
       "      <td>-0.05</td>\n",
       "      <td>0.42</td>\n",
       "      <td>-0.39</td>\n",
       "      <td>-0.40</td>\n",
       "      <td>-0.09</td>\n",
       "      <td>0.69</td>\n",
       "      <td>-0.14</td>\n",
       "    </tr>\n",
       "    <tr>\n",
       "      <th>natural</th>\n",
       "      <td>-0.23</td>\n",
       "      <td>-0.23</td>\n",
       "      <td>-0.23</td>\n",
       "      <td>-0.23</td>\n",
       "      <td>-0.23</td>\n",
       "      <td>-0.23</td>\n",
       "      <td>4.35</td>\n",
       "      <td>-0.23</td>\n",
       "    </tr>\n",
       "    <tr>\n",
       "      <th>eye opening</th>\n",
       "      <td>-0.15</td>\n",
       "      <td>-0.15</td>\n",
       "      <td>-0.15</td>\n",
       "      <td>6.67</td>\n",
       "      <td>-0.15</td>\n",
       "      <td>-0.15</td>\n",
       "      <td>-0.15</td>\n",
       "      <td>-0.15</td>\n",
       "    </tr>\n",
       "    <tr>\n",
       "      <th>learn</th>\n",
       "      <td>-0.16</td>\n",
       "      <td>0.00</td>\n",
       "      <td>0.23</td>\n",
       "      <td>-0.05</td>\n",
       "      <td>-0.20</td>\n",
       "      <td>-0.20</td>\n",
       "      <td>0.06</td>\n",
       "      <td>0.06</td>\n",
       "    </tr>\n",
       "    <tr>\n",
       "      <th>history2</th>\n",
       "      <td>-0.17</td>\n",
       "      <td>0.18</td>\n",
       "      <td>-0.21</td>\n",
       "      <td>-0.00</td>\n",
       "      <td>-0.26</td>\n",
       "      <td>-0.36</td>\n",
       "      <td>-0.20</td>\n",
       "      <td>0.08</td>\n",
       "    </tr>\n",
       "    <tr>\n",
       "      <th>permanent collection</th>\n",
       "      <td>-0.19</td>\n",
       "      <td>-0.34</td>\n",
       "      <td>-0.34</td>\n",
       "      <td>-0.34</td>\n",
       "      <td>0.17</td>\n",
       "      <td>2.62</td>\n",
       "      <td>-0.21</td>\n",
       "      <td>-0.31</td>\n",
       "    </tr>\n",
       "    <tr>\n",
       "      <th>ReviewCount</th>\n",
       "      <td>1.11</td>\n",
       "      <td>-0.07</td>\n",
       "      <td>-0.14</td>\n",
       "      <td>0.10</td>\n",
       "      <td>-0.14</td>\n",
       "      <td>-0.14</td>\n",
       "      <td>-0.02</td>\n",
       "      <td>-0.18</td>\n",
       "    </tr>\n",
       "    <tr>\n",
       "      <th>Rating</th>\n",
       "      <td>-0.07</td>\n",
       "      <td>-0.02</td>\n",
       "      <td>-0.07</td>\n",
       "      <td>-0.50</td>\n",
       "      <td>0.35</td>\n",
       "      <td>0.15</td>\n",
       "      <td>0.04</td>\n",
       "      <td>0.06</td>\n",
       "    </tr>\n",
       "    <tr>\n",
       "      <th>TopCouples</th>\n",
       "      <td>0.60</td>\n",
       "      <td>0.70</td>\n",
       "      <td>-0.98</td>\n",
       "      <td>0.02</td>\n",
       "      <td>-1.44</td>\n",
       "      <td>0.62</td>\n",
       "      <td>-0.67</td>\n",
       "      <td>-1.44</td>\n",
       "    </tr>\n",
       "    <tr>\n",
       "      <th>TopFamilies</th>\n",
       "      <td>-0.56</td>\n",
       "      <td>-0.65</td>\n",
       "      <td>1.06</td>\n",
       "      <td>-0.08</td>\n",
       "      <td>-0.65</td>\n",
       "      <td>-0.58</td>\n",
       "      <td>0.72</td>\n",
       "      <td>1.51</td>\n",
       "    </tr>\n",
       "    <tr>\n",
       "      <th>TopFriends</th>\n",
       "      <td>-0.16</td>\n",
       "      <td>-0.16</td>\n",
       "      <td>-0.16</td>\n",
       "      <td>0.02</td>\n",
       "      <td>6.23</td>\n",
       "      <td>-0.16</td>\n",
       "      <td>-0.16</td>\n",
       "      <td>-0.16</td>\n",
       "    </tr>\n",
       "    <tr>\n",
       "      <th>TopSolo</th>\n",
       "      <td>0.02</td>\n",
       "      <td>-0.08</td>\n",
       "      <td>0.00</td>\n",
       "      <td>0.31</td>\n",
       "      <td>-0.08</td>\n",
       "      <td>0.01</td>\n",
       "      <td>0.09</td>\n",
       "      <td>0.12</td>\n",
       "    </tr>\n",
       "  </tbody>\n",
       "</table>\n",
       "</div>"
      ],
      "text/plain": [
       "cluster                  0     1     2     3     4     5     6     7\n",
       "special exhibit      -0.25 -0.23 -0.07 -0.45 -0.11  1.58  0.18 -0.17\n",
       "interactive          -0.26 -0.23  2.25 -0.06 -0.37 -0.41  0.03 -0.41\n",
       "family               -0.48 -0.33  1.58 -0.51 -0.45 -0.50  0.96  0.23\n",
       "audio guide           2.98 -0.32 -0.32  0.17  0.03 -0.15 -0.15 -0.32\n",
       "art                   0.68 -0.15 -0.33 -0.34 -0.01  1.10 -0.30 -0.27\n",
       "display               0.16 -0.03 -0.41 -0.26 -0.59  0.50 -0.00  0.07\n",
       "rainy day            -0.05 -0.05  0.42 -0.39 -0.40 -0.09  0.69 -0.14\n",
       "natural              -0.23 -0.23 -0.23 -0.23 -0.23 -0.23  4.35 -0.23\n",
       "eye opening          -0.15 -0.15 -0.15  6.67 -0.15 -0.15 -0.15 -0.15\n",
       "learn                -0.16  0.00  0.23 -0.05 -0.20 -0.20  0.06  0.06\n",
       "history2             -0.17  0.18 -0.21 -0.00 -0.26 -0.36 -0.20  0.08\n",
       "permanent collection -0.19 -0.34 -0.34 -0.34  0.17  2.62 -0.21 -0.31\n",
       "ReviewCount           1.11 -0.07 -0.14  0.10 -0.14 -0.14 -0.02 -0.18\n",
       "Rating               -0.07 -0.02 -0.07 -0.50  0.35  0.15  0.04  0.06\n",
       "TopCouples            0.60  0.70 -0.98  0.02 -1.44  0.62 -0.67 -1.44\n",
       "TopFamilies          -0.56 -0.65  1.06 -0.08 -0.65 -0.58  0.72  1.51\n",
       "TopFriends           -0.16 -0.16 -0.16  0.02  6.23 -0.16 -0.16 -0.16\n",
       "TopSolo               0.02 -0.08  0.00  0.31 -0.08  0.01  0.09  0.12"
      ]
     },
     "execution_count": 17,
     "metadata": {},
     "output_type": "execute_result"
    }
   ],
   "source": [
    "# Analyze the normalized centroids\n",
    "df_results_norm.groupby('cluster').mean().round(2).T"
   ]
  },
  {
   "cell_type": "code",
   "execution_count": 18,
   "metadata": {
    "scrolled": true
   },
   "outputs": [
    {
     "name": "stdout",
     "output_type": "stream",
     "text": [
      "special exhibit\n"
     ]
    },
    {
     "data": {
      "image/png": "[encoded data removed]",
      "text/plain": [
       "<Figure size 432x288 with 1 Axes>"
      ]
     },
     "metadata": {
      "needs_background": "light"
     },
     "output_type": "display_data"
    },
    {
     "name": "stdout",
     "output_type": "stream",
     "text": [
      "interactive\n"
     ]
    },
    {
     "data": {
      "image/png": "[encoded data removed]",
      "text/plain": [
       "<Figure size 432x288 with 1 Axes>"
      ]
     },
     "metadata": {
      "needs_background": "light"
     },
     "output_type": "display_data"
    },
    {
     "name": "stdout",
     "output_type": "stream",
     "text": [
      "family\n"
     ]
    },
    {
     "data": {
      "image/png": "[encoded data removed]",
      "text/plain": [
       "<Figure size 432x288 with 1 Axes>"
      ]
     },
     "metadata": {
      "needs_background": "light"
     },
     "output_type": "display_data"
    },
    {
     "name": "stdout",
     "output_type": "stream",
     "text": [
      "audio guide\n"
     ]
    },
    {
     "data": {
      "image/png": "[encoded data removed]",
      "text/plain": [
       "<Figure size 432x288 with 1 Axes>"
      ]
     },
     "metadata": {
      "needs_background": "light"
     },
     "output_type": "display_data"
    },
    {
     "name": "stdout",
     "output_type": "stream",
     "text": [
      "art\n"
     ]
    },
    {
     "data": {
      "image/png": "[encoded data removed]",
      "text/plain": [
       "<Figure size 432x288 with 1 Axes>"
      ]
     },
     "metadata": {
      "needs_background": "light"
     },
     "output_type": "display_data"
    },
    {
     "name": "stdout",
     "output_type": "stream",
     "text": [
      "display\n"
     ]
    },
    {
     "data": {
      "image/png": "[encoded data removed]",
      "text/plain": [
       "<Figure size 432x288 with 1 Axes>"
      ]
     },
     "metadata": {
      "needs_background": "light"
     },
     "output_type": "display_data"
    },
    {
     "name": "stdout",
     "output_type": "stream",
     "text": [
      "rainy day\n"
     ]
    },
    {
     "data": {
      "image/png": "[encoded data removed]",
      "text/plain": [
       "<Figure size 432x288 with 1 Axes>"
      ]
     },
     "metadata": {
      "needs_background": "light"
     },
     "output_type": "display_data"
    },
    {
     "name": "stdout",
     "output_type": "stream",
     "text": [
      "natural\n"
     ]
    },
    {
     "data": {
      "image/png": "[encoded data removed]",
      "text/plain": [
       "<Figure size 432x288 with 1 Axes>"
      ]
     },
     "metadata": {
      "needs_background": "light"
     },
     "output_type": "display_data"
    },
    {
     "name": "stdout",
     "output_type": "stream",
     "text": [
      "eye opening\n"
     ]
    },
    {
     "data": {
      "image/png": "[encoded data removed]",
      "text/plain": [
       "<Figure size 432x288 with 1 Axes>"
      ]
     },
     "metadata": {
      "needs_background": "light"
     },
     "output_type": "display_data"
    },
    {
     "name": "stdout",
     "output_type": "stream",
     "text": [
      "learn\n"
     ]
    },
    {
     "data": {
      "image/png": "[encoded data removed]",
      "text/plain": [
       "<Figure size 432x288 with 1 Axes>"
      ]
     },
     "metadata": {
      "needs_background": "light"
     },
     "output_type": "display_data"
    },
    {
     "name": "stdout",
     "output_type": "stream",
     "text": [
      "history2\n"
     ]
    },
    {
     "data": {
      "image/png": "[encoded data removed]",
      "text/plain": [
       "<Figure size 432x288 with 1 Axes>"
      ]
     },
     "metadata": {
      "needs_background": "light"
     },
     "output_type": "display_data"
    },
    {
     "name": "stdout",
     "output_type": "stream",
     "text": [
      "permanent collection\n"
     ]
    },
    {
     "data": {
      "image/png": "[encoded data removed]",
      "text/plain": [
       "<Figure size 432x288 with 1 Axes>"
      ]
     },
     "metadata": {
      "needs_background": "light"
     },
     "output_type": "display_data"
    },
    {
     "name": "stdout",
     "output_type": "stream",
     "text": [
      "ReviewCount\n"
     ]
    },
    {
     "data": {
      "image/png": "[encoded data removed]",
      "text/plain": [
       "<Figure size 432x288 with 1 Axes>"
      ]
     },
     "metadata": {
      "needs_background": "light"
     },
     "output_type": "display_data"
    },
    {
     "name": "stdout",
     "output_type": "stream",
     "text": [
      "Rating\n"
     ]
    },
    {
     "data": {
      "image/png": "[encoded data removed]",
      "text/plain": [
       "<Figure size 432x288 with 1 Axes>"
      ]
     },
     "metadata": {
      "needs_background": "light"
     },
     "output_type": "display_data"
    },
    {
     "name": "stdout",
     "output_type": "stream",
     "text": [
      "TopCouples\n"
     ]
    },
    {
     "data": {
      "image/png": "[encoded data removed]",
      "text/plain": [
       "<Figure size 432x288 with 1 Axes>"
      ]
     },
     "metadata": {
      "needs_background": "light"
     },
     "output_type": "display_data"
    },
    {
     "name": "stdout",
     "output_type": "stream",
     "text": [
      "TopFamilies\n"
     ]
    },
    {
     "data": {
      "image/png": "[encoded data removed]",
      "text/plain": [
       "<Figure size 432x288 with 1 Axes>"
      ]
     },
     "metadata": {
      "needs_background": "light"
     },
     "output_type": "display_data"
    },
    {
     "name": "stdout",
     "output_type": "stream",
     "text": [
      "TopFriends\n"
     ]
    },
    {
     "data": {
      "image/png": "[encoded data removed]",
      "text/plain": [
       "<Figure size 432x288 with 1 Axes>"
      ]
     },
     "metadata": {
      "needs_background": "light"
     },
     "output_type": "display_data"
    },
    {
     "name": "stdout",
     "output_type": "stream",
     "text": [
      "TopSolo\n"
     ]
    },
    {
     "data": {
      "image/png": "[encoded data removed]",
      "text/plain": [
       "<Figure size 432x288 with 1 Axes>"
      ]
     },
     "metadata": {
      "needs_background": "light"
     },
     "output_type": "display_data"
    }
   ],
   "source": [
    "# Analyze the results\n",
    "for col in X_columns:\n",
    "    print(col)\n",
    "    for cluster in set(kmeans.labels_):\n",
    "        plt.hist(df_results[df_results['cluster']==cluster][col], label=str(cluster), alpha=0.3, bins=20)\n",
    "    plt.legend()\n",
    "    plt.show()"
   ]
  },
  {
   "cell_type": "markdown",
   "metadata": {},
   "source": [
    "Based on the normalized results, and the types of museums within each cluster, the clusters appear to defined by the following:\n",
    "\n",
    "0: highly popular art museums with an audio guide, but no permanent collections/special exhibits (not family friendly)  \n",
    "1: other - but loosely consisting of specialty, history, art and military museums, landmarks and historic sites with history-related content but no permanent collections, special exhibits, or interactivity (not family friendly)  \n",
    "2: science, natural history and children's museums for all ages, with interactivity and educational (family friendly)  \n",
    "3: popular specialty and history museums with lower ratings but eye opening content, mainly visited by solo travelers (not family friendly)  \n",
    "4: highly rated but not very popular (likely niche) specialty and art museums with permanent collections, mostly visited by friends (not family friendly)  \n",
    "5: highly rated art museums with permanent collections and special exhibits (not family friendly)  \n",
    "6: natural history museums for families, geared more towards display instead of interactive, also educational (family friendly)  \n",
    "7: family-oriented specialty, history and military museums, historic sites and landmarks with no interactivity and not good for a rainy day (maybe outdoors) (family friendly)\n",
    "\n",
    "Clusters 2, 6, and 7 are all family friendly, whereas the others are not."
   ]
  },
  {
   "cell_type": "markdown",
   "metadata": {},
   "source": [
    "# Model Evaluation"
   ]
  },
  {
   "cell_type": "code",
   "execution_count": 19,
   "metadata": {},
   "outputs": [
    {
     "name": "stdout",
     "output_type": "stream",
     "text": [
      "Inter Cluster distance 0.5281777736737789\n",
      "Intra Cluster distance 0.5302502853935924\n",
      "Inertia 15861.973264278447\n"
     ]
    }
   ],
   "source": [
    "# Inter-Cluster\n",
    "centroids = []\n",
    "for cluster in sorted(set(kmeans.labels_)):\n",
    "    centroids.append(df_norm[df_norm['cluster']==cluster][X_columns].mean().values)\n",
    "distances = []\n",
    "for c1 in centroids:\n",
    "    for c2 in centroids:\n",
    "        distances.append(euclidean_distances(c1.reshape(-1, 1), c2.reshape(-1, 1))[0][0])\n",
    "print('Inter Cluster distance', np.mean(distances))\n",
    "\n",
    "# Intra-Cluster\n",
    "distances = []\n",
    "for cluster in sorted(set(kmeans.labels_)):\n",
    "    df_filter = df_norm[df_norm['cluster']==cluster]\n",
    "    centroid = df_filter[X_columns].mean().values\n",
    "    for k, v in df_filter[X_columns].iterrows():\n",
    "        distances.append(euclidean_distances(centroid.reshape(-1, 1), v.values.reshape(-1, 1))[0][0])\n",
    "print('Intra Cluster distance', np.mean(distances))\n",
    "\n",
    "# Inertia\n",
    "distances = []\n",
    "for cluster in sorted(set(kmeans.labels_)):\n",
    "    df_filter = df_norm[df_norm['cluster']==cluster]\n",
    "    centroid = df_filter[X_columns].mean().values\n",
    "    for k, v in df_filter[X_columns].iterrows():\n",
    "        distances.append(euclidean_distances(centroid.reshape(1, -1), v.values.reshape(1, -1), squared=True)[0][0])\n",
    "print('Inertia', np.sum(distances))"
   ]
  },
  {
   "cell_type": "code",
   "execution_count": 20,
   "metadata": {},
   "outputs": [
    {
     "data": {
      "image/png": "[encoded data removed]",
      "text/plain": [
       "<Figure size 432x288 with 1 Axes>"
      ]
     },
     "metadata": {
      "needs_background": "light"
     },
     "output_type": "display_data"
    }
   ],
   "source": [
    "inertia = []\n",
    "number_k = []\n",
    "for k in range(2, 100, 10):\n",
    "    kmeans = KMeans(n_clusters=k).fit(df_norm.values)\n",
    "    inertia.append(kmeans.inertia_)\n",
    "    number_k.append(k)\n",
    "plt.plot(number_k, inertia)\n",
    "plt.show()"
   ]
  },
  {
   "cell_type": "markdown",
   "metadata": {},
   "source": [
    "While the inertia is still quite high, the clusters are meaningful enough for the analysis I was aiming for, especially given the high dimensionality of the data. Based on where the 'elbow' is, around 20 clusters may be better. "
   ]
  }
 ],
 "metadata": {
  "anaconda-cloud": {},
  "kernelspec": {
   "display_name": "Python 3",
   "language": "python",
   "name": "python3"
  },
  "language_info": {
   "codemirror_mode": {
    "name": "ipython",
    "version": 3
   },
   "file_extension": ".py",
   "mimetype": "text/x-python",
   "name": "python",
   "nbconvert_exporter": "python",
   "pygments_lexer": "ipython3",
   "version": "3.7.3"
  }
 },
 "nbformat": 4,
 "nbformat_minor": 1
}
